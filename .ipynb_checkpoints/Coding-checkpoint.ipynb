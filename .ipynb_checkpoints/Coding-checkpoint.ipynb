{
 "cells": [
  {
   "cell_type": "code",
   "execution_count": 22,
   "id": "e818c53c",
   "metadata": {},
   "outputs": [
    {
     "data": {
      "text/plain": [
       "'sourav'"
      ]
     },
     "execution_count": 22,
     "metadata": {},
     "output_type": "execute_result"
    }
   ],
   "source": [
    "s = 'sourav'\n",
    "s"
   ]
  },
  {
   "cell_type": "code",
   "execution_count": 18,
   "id": "c27019f4",
   "metadata": {},
   "outputs": [
    {
     "data": {
      "text/plain": [
       "'ourav'"
      ]
     },
     "execution_count": 18,
     "metadata": {},
     "output_type": "execute_result"
    }
   ],
   "source": [
    "s = s.removeprefix(s[0])\n",
    "s"
   ]
  },
  {
   "cell_type": "code",
   "execution_count": 19,
   "id": "e40ff3bf",
   "metadata": {},
   "outputs": [
    {
     "data": {
      "text/plain": [
       "'oura'"
      ]
     },
     "execution_count": 19,
     "metadata": {},
     "output_type": "execute_result"
    }
   ],
   "source": [
    "s = s.removesuffix(s[-1])\n",
    "s\n"
   ]
  },
  {
   "cell_type": "code",
   "execution_count": 13,
   "id": "13390755",
   "metadata": {},
   "outputs": [
    {
     "ename": "TypeError",
     "evalue": "rstrip arg must be None or str",
     "output_type": "error",
     "traceback": [
      "\u001b[1;31m---------------------------------------------------------------------------\u001b[0m",
      "\u001b[1;31mTypeError\u001b[0m                                 Traceback (most recent call last)",
      "Input \u001b[1;32mIn [13]\u001b[0m, in \u001b[0;36m<cell line: 1>\u001b[1;34m()\u001b[0m\n\u001b[1;32m----> 1\u001b[0m \u001b[43ms\u001b[49m\u001b[38;5;241;43m.\u001b[39;49m\u001b[43mrstrip\u001b[49m\u001b[43m(\u001b[49m\u001b[38;5;241;43m1\u001b[39;49m\u001b[43m)\u001b[49m\n",
      "\u001b[1;31mTypeError\u001b[0m: rstrip arg must be None or str"
     ]
    }
   ],
   "source": [
    "s.rstrip(1)"
   ]
  },
  {
   "cell_type": "code",
   "execution_count": 20,
   "id": "17b8763f",
   "metadata": {},
   "outputs": [],
   "source": [
    "def r_string(s):\n",
    "    updated_string = s.removeprefix(s[0])\n",
    "    updated_string = updated_string.removesuffix(s[-1])\n",
    "    return updated_string\n"
   ]
  },
  {
   "cell_type": "code",
   "execution_count": 23,
   "id": "9b975418",
   "metadata": {},
   "outputs": [
    {
     "data": {
      "text/plain": [
       "'oura'"
      ]
     },
     "execution_count": 23,
     "metadata": {},
     "output_type": "execute_result"
    }
   ],
   "source": [
    "def r_string(s)"
   ]
  },
  {
   "cell_type": "code",
   "execution_count": 2,
   "id": "c8f4cc0a",
   "metadata": {},
   "outputs": [],
   "source": [
    "a_dict = {}\n",
    "a_dict[1.1] = \"c++\"\n",
    "a_dict[2.0] = \"PHP\"\n",
    "a_dict[2] = \"Python\""
   ]
  },
  {
   "cell_type": "code",
   "execution_count": 3,
   "id": "60705ab2",
   "metadata": {},
   "outputs": [
    {
     "data": {
      "text/plain": [
       "{1.1: 'c++', 2.0: 'Python'}"
      ]
     },
     "execution_count": 3,
     "metadata": {},
     "output_type": "execute_result"
    }
   ],
   "source": [
    "a_dict"
   ]
  },
  {
   "cell_type": "code",
   "execution_count": null,
   "id": "05b9a163",
   "metadata": {},
   "outputs": [],
   "source": [
    "def positive_sum(arr):\n",
    "    if arr"
   ]
  },
  {
   "cell_type": "code",
   "execution_count": 14,
   "id": "8897f30a",
   "metadata": {},
   "outputs": [
    {
     "data": {
      "text/plain": [
       "[1, -4, 7, 12]"
      ]
     },
     "execution_count": 14,
     "metadata": {},
     "output_type": "execute_result"
    }
   ],
   "source": [
    "arr = [1,-4,7,12]\n",
    "arr"
   ]
  },
  {
   "cell_type": "code",
   "execution_count": 40,
   "id": "f225bd16",
   "metadata": {},
   "outputs": [],
   "source": [
    "def a(arr):\n",
    "    add = 0\n",
    "    for i in arr: \n",
    "        if i > 0:\n",
    "            add +=i\n",
    "\n",
    "    if add > 0:\n",
    "        return add\n",
    "    else:\n",
    "        return 0\n",
    "        \n"
   ]
  },
  {
   "cell_type": "code",
   "execution_count": 41,
   "id": "3bd20980",
   "metadata": {},
   "outputs": [
    {
     "data": {
      "text/plain": [
       "1"
      ]
     },
     "execution_count": 41,
     "metadata": {},
     "output_type": "execute_result"
    }
   ],
   "source": [
    "a(arr)"
   ]
  },
  {
   "cell_type": "code",
   "execution_count": 34,
   "id": "b935ceb4",
   "metadata": {},
   "outputs": [
    {
     "data": {
      "text/plain": [
       "[1, -4, -7, -12]"
      ]
     },
     "execution_count": 34,
     "metadata": {},
     "output_type": "execute_result"
    }
   ],
   "source": [
    "arr = [1,-4,-7,-12]\n",
    "arr"
   ]
  },
  {
   "cell_type": "code",
   "execution_count": 15,
   "id": "8cec9e41",
   "metadata": {},
   "outputs": [
    {
     "data": {
      "text/plain": [
       "[1, -4, 7, 12]"
      ]
     },
     "execution_count": 15,
     "metadata": {},
     "output_type": "execute_result"
    }
   ],
   "source": [
    "arr"
   ]
  },
  {
   "cell_type": "code",
   "execution_count": 42,
   "id": "b9e83277",
   "metadata": {},
   "outputs": [],
   "source": [
    "def a1(arr):\n",
    "    return sum(x for x in arr if x>0)\n",
    "        "
   ]
  },
  {
   "cell_type": "code",
   "execution_count": 38,
   "id": "036ee96c",
   "metadata": {},
   "outputs": [
    {
     "data": {
      "text/plain": [
       "[1, -4, -7, -12]"
      ]
     },
     "execution_count": 38,
     "metadata": {},
     "output_type": "execute_result"
    }
   ],
   "source": [
    "arr"
   ]
  },
  {
   "cell_type": "code",
   "execution_count": 43,
   "id": "991980df",
   "metadata": {},
   "outputs": [
    {
     "data": {
      "text/plain": [
       "1"
      ]
     },
     "execution_count": 43,
     "metadata": {},
     "output_type": "execute_result"
    }
   ],
   "source": [
    "a1(arr)"
   ]
  },
  {
   "cell_type": "code",
   "execution_count": null,
   "id": "07a485fd",
   "metadata": {},
   "outputs": [],
   "source": [
    "a = [for i in arr if sum(arr)>0]"
   ]
  },
  {
   "cell_type": "code",
   "execution_count": null,
   "id": "1d759e48",
   "metadata": {},
   "outputs": [],
   "source": [
    "# Solved 2 basic problem"
   ]
  }
 ],
 "metadata": {
  "kernelspec": {
   "display_name": "Python 3 (ipykernel)",
   "language": "python",
   "name": "python3"
  },
  "language_info": {
   "codemirror_mode": {
    "name": "ipython",
    "version": 3
   },
   "file_extension": ".py",
   "mimetype": "text/x-python",
   "name": "python",
   "nbconvert_exporter": "python",
   "pygments_lexer": "ipython3",
   "version": "3.9.12"
  }
 },
 "nbformat": 4,
 "nbformat_minor": 5
}
