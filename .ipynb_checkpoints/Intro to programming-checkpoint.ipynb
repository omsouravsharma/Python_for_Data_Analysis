{
 "cells": [
  {
   "cell_type": "markdown",
   "id": "c07fb4d5",
   "metadata": {},
   "source": [
    "## Intro to programming"
   ]
  },
  {
   "cell_type": "code",
   "execution_count": null,
   "id": "4c6658c5",
   "metadata": {},
   "outputs": [],
   "source": [
    "https://www.kaggle.com/code/alexisbcook/functions/tutorial"
   ]
  }
 ],
 "metadata": {
  "kernelspec": {
   "display_name": "Python 3 (ipykernel)",
   "language": "python",
   "name": "python3"
  },
  "language_info": {
   "codemirror_mode": {
    "name": "ipython",
    "version": 3
   },
   "file_extension": ".py",
   "mimetype": "text/x-python",
   "name": "python",
   "nbconvert_exporter": "python",
   "pygments_lexer": "ipython3",
   "version": "3.9.12"
  }
 },
 "nbformat": 4,
 "nbformat_minor": 5
}
