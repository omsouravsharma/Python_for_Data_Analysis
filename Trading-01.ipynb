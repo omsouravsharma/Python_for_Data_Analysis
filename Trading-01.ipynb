{
 "cells": [
  {
   "cell_type": "markdown",
   "id": "65f0b3ed",
   "metadata": {},
   "source": [
    "## Algorithmic Trading "
   ]
  },
  {
   "cell_type": "markdown",
   "id": "6224c726",
   "metadata": {},
   "source": [
    "# Equal-Weight S&P 500 Index Fund"
   ]
  },
  {
   "cell_type": "markdown",
   "id": "cb7ae434",
   "metadata": {},
   "source": [
    "## Library Import"
   ]
  },
  {
   "cell_type": "code",
   "execution_count": 5,
   "id": "a69a2fdc",
   "metadata": {},
   "outputs": [],
   "source": [
    "import numpy as np\n",
    "import pandas as pd\n",
    "import requests \n",
    "import xlsxwriter\n",
    "import math"
   ]
  },
  {
   "cell_type": "code",
   "execution_count": 4,
   "id": "c49ce4fc",
   "metadata": {},
   "outputs": [
    {
     "name": "stdout",
     "output_type": "stream",
     "text": [
      "Collecting xlsxwriterNote: you may need to restart the kernel to use updated packages.\n",
      "\n",
      "  Downloading XlsxWriter-3.0.3-py3-none-any.whl (149 kB)\n",
      "Installing collected packages: xlsxwriter\n",
      "Successfully installed xlsxwriter-3.0.3\n"
     ]
    }
   ],
   "source": [
    "# pip install xlsxwriter"
   ]
  },
  {
   "cell_type": "code",
   "execution_count": null,
   "id": "539a445a",
   "metadata": {},
   "outputs": [],
   "source": [
    "https://youtu.be/xfzGZB4HhEE?t=1474"
   ]
  }
 ],
 "metadata": {
  "kernelspec": {
   "display_name": "Python 3 (ipykernel)",
   "language": "python",
   "name": "python3"
  },
  "language_info": {
   "codemirror_mode": {
    "name": "ipython",
    "version": 3
   },
   "file_extension": ".py",
   "mimetype": "text/x-python",
   "name": "python",
   "nbconvert_exporter": "python",
   "pygments_lexer": "ipython3",
   "version": "3.9.12"
  }
 },
 "nbformat": 4,
 "nbformat_minor": 5
}
